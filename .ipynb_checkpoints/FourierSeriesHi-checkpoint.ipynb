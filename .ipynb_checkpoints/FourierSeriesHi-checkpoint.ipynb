{
 "cells": [
  {
   "cell_type": "markdown",
   "metadata": {},
   "source": [
    "# Fourier Series Representation of the Word \"Hi\"\n",
    "\n",
    "First, import the requisite modules. Frankly, I'm a huge fan of the Anaconda distribution."
   ]
  },
  {
   "cell_type": "code",
   "execution_count": 1,
   "metadata": {
    "collapsed": true
   },
   "outputs": [],
   "source": [
    "import numpy as np\n",
    "import matplotlib.pyplot as plt"
   ]
  },
  {
   "cell_type": "markdown",
   "metadata": {},
   "source": [
    "Now, the equation.\n",
    "\n",
    "$f(t) = \\frac{1}{8} + \\lim_{a\\rightarrow 0}\\sum_{k=1}^{\\infty}\\left (-sin(\\frac{k\\pi}{2}\\left ( 1-a \\right ))+sin(\\frac{k\\pi}{2}\\left ( 2+a \\right )) + \\frac{1}{2}sin(\\frac{k\\pi}{2}\\left ( 3+a \\right )) + \\frac{1}{2}sin(\\frac{k\\pi}{2}) - \\frac{1}{2}sin(k\\pi) - \\frac{1}{2}sin(\\frac{3k\\pi}{2})\\right ) \\frac{cos\\frac{k\\pi}{2}t}{k\\pi} - \\left (-cos(\\frac{k\\pi}{2}\\left ( 1-a \\right ))+cos(\\frac{k\\pi}{2}\\left ( 2+a \\right )) + \\frac{1}{2}cos(\\frac{k\\pi}{2}\\left ( 3+a \\right )) + \\frac{1}{2}cos(\\frac{k\\pi}{2}) - \\frac{1}{2}cos(k\\pi) - \\frac{1}{2}cos(\\frac{3k\\pi}{2})\\right ) \\frac{sin\\frac{k\\pi}{2}t}{k\\pi}$\n",
    "\n",
    "Since the limit cannot necessarily be taken inside of the Python kernel, this will utilize a very, very small value for $a$."
   ]
  },
  {
   "cell_type": "code",
   "execution_count": 2,
   "metadata": {
    "collapsed": true
   },
   "outputs": [],
   "source": [
    "a = 0"
   ]
  },
  {
   "cell_type": "markdown",
   "metadata": {},
   "source": [
    "A sum function must exist. It's a long equation, I promise I don't normally format this way, but bear with me."
   ]
  },
  {
   "cell_type": "code",
   "execution_count": 3,
   "metadata": {
    "collapsed": false
   },
   "outputs": [],
   "source": [
    "def sumeq(t, n):\n",
    "    tot = 0\n",
    "    for k in range(1, n):\n",
    "        tot += (-np.sin(k*np.pi/2*(1-a))+np.sin(k*np.pi/2*(2+a))+1/2*np.sin(k*np.pi/2*(3+a))+1/2*np.sin(k*np.pi/2) \\\n",
    "            -1/2*np.sin(k*np.pi)-1/2*np.sin(3*k*np.pi/2))*np.cos(k*np.pi/2*t)/k/np.pi \\\n",
    "            -(-np.cos(k*np.pi/2*(1-a))+np.cos(k*np.pi/2*(2+a))+1/2*np.cos(k*np.pi/2*(3+a))+1/2*np.cos(k*np.pi/2) \\\n",
    "               -1/2*np.cos(k*np.pi)-1/2*np.cos(3*k*np.pi/2))*np.sin(k*np.pi/2*t)/k/np.pi\n",
    "    return tot"
   ]
  },
  {
   "cell_type": "markdown",
   "metadata": {},
   "source": [
    "Now fill the equation. This step is rather ancillary, but you know how it goes."
   ]
  },
  {
   "cell_type": "code",
   "execution_count": 4,
   "metadata": {
    "collapsed": false
   },
   "outputs": [],
   "source": [
    "def f(t, n):\n",
    "    return 1/8 + sumeq(t, n)"
   ]
  },
  {
   "cell_type": "markdown",
   "metadata": {},
   "source": [
    "Let's list the number of iterations we want to do."
   ]
  },
  {
   "cell_type": "code",
   "execution_count": null,
   "metadata": {
    "collapsed": true
   },
   "outputs": [],
   "source": [
    "handles = np.array([1, 2, 3, 4, 5, 6, 7, 8, 9, 10, 20, 30, 40, 50, 60, 70, 80, 90, 100,\n",
    "                    200, 400, 600, 800, 1000, 2000, 5000])"
   ]
  },
  {
   "cell_type": "markdown",
   "metadata": {},
   "source": [
    "Calculations and plotting! Mileage may vary depending on your resolution and/or computing power. The Gibbs phenomenon is virtually guaranteed to look dodgy."
   ]
  },
  {
   "cell_type": "code",
   "execution_count": null,
   "metadata": {
    "collapsed": false
   },
   "outputs": [],
   "source": [
    "numsteps = int(1e8)\n",
    "xs = np.linspace(0, 4, numsteps)\n",
    "ys = np.zeros(numsteps)\n",
    "\n",
    "for handle in handles:\n",
    "    plt.title(\"{0} Iterations\".format(handle))\n",
    "    plt.axis([0, 4, -0.5, 1.5])\n",
    "    for pos, x in enumerate(xs):\n",
    "        ys[pos] = f(xs[pos], handle+1)\n",
    "    plt.plot(xs, ys)\n",
    "    plt.show()"
   ]
  }
 ],
 "metadata": {
  "kernelspec": {
   "display_name": "Python [conda root]",
   "language": "python",
   "name": "conda-root-py"
  },
  "language_info": {
   "codemirror_mode": {
    "name": "ipython",
    "version": 3
   },
   "file_extension": ".py",
   "mimetype": "text/x-python",
   "name": "python",
   "nbconvert_exporter": "python",
   "pygments_lexer": "ipython3",
   "version": "3.5.2"
  }
 },
 "nbformat": 4,
 "nbformat_minor": 2
}
